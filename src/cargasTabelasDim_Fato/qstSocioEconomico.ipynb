{
 "cells": [
  {
   "cell_type": "code",
   "execution_count": 1,
   "metadata": {},
   "outputs": [],
   "source": [
    "import pandas as pd\n",
    "import sqlalchemy as sa  # Corrigido\n",
    "from sqlalchemy import create_engine  # Importação correta para criar o engine\n",
    "import os\n",
    "import sys\n",
    "sys.path.append(r'c:\\Projetos\\Python\\JornadaDeDados')\n",
    "\n",
    "pd.set_option('display.max_columns', None)"
   ]
  },
  {
   "cell_type": "code",
   "execution_count": 2,
   "metadata": {},
   "outputs": [],
   "source": [
    "df = pd.read_csv(\"microdados_enem_2023/DADOS/DicionarioEnem2023.csv\", delimiter=\";\", encoding=\"UTF-8\")"
   ]
  },
  {
   "cell_type": "code",
   "execution_count": 5,
   "metadata": {},
   "outputs": [
    {
     "data": {
      "text/html": [
       "<div>\n",
       "<style scoped>\n",
       "    .dataframe tbody tr th:only-of-type {\n",
       "        vertical-align: middle;\n",
       "    }\n",
       "\n",
       "    .dataframe tbody tr th {\n",
       "        vertical-align: top;\n",
       "    }\n",
       "\n",
       "    .dataframe thead th {\n",
       "        text-align: right;\n",
       "    }\n",
       "</style>\n",
       "<table border=\"1\" class=\"dataframe\">\n",
       "  <thead>\n",
       "    <tr style=\"text-align: right;\">\n",
       "      <th></th>\n",
       "      <th>ID_QUESTIONARIO</th>\n",
       "      <th>PERGUNTA</th>\n",
       "      <th>NR_REPOSTA</th>\n",
       "      <th>DESC_RESPOSTA</th>\n",
       "    </tr>\n",
       "  </thead>\n",
       "  <tbody>\n",
       "    <tr>\n",
       "      <th>0</th>\n",
       "      <td>Q001</td>\n",
       "      <td>Até que série seu pai, ou o homem responsável ...</td>\n",
       "      <td>A</td>\n",
       "      <td>Nunca estudou.</td>\n",
       "    </tr>\n",
       "    <tr>\n",
       "      <th>1</th>\n",
       "      <td>Q001</td>\n",
       "      <td>Até que série seu pai, ou o homem responsável ...</td>\n",
       "      <td>B</td>\n",
       "      <td>Não completou a 4ª série/5º ano do Ensino Fund...</td>\n",
       "    </tr>\n",
       "    <tr>\n",
       "      <th>2</th>\n",
       "      <td>Q001</td>\n",
       "      <td>Até que série seu pai, ou o homem responsável ...</td>\n",
       "      <td>C</td>\n",
       "      <td>Completou a 4ª série/5º ano, mas não completou...</td>\n",
       "    </tr>\n",
       "    <tr>\n",
       "      <th>3</th>\n",
       "      <td>Q001</td>\n",
       "      <td>Até que série seu pai, ou o homem responsável ...</td>\n",
       "      <td>D</td>\n",
       "      <td>Completou a 8ª série/9º ano do Ensino Fundamen...</td>\n",
       "    </tr>\n",
       "    <tr>\n",
       "      <th>4</th>\n",
       "      <td>Q001</td>\n",
       "      <td>Até que série seu pai, ou o homem responsável ...</td>\n",
       "      <td>E</td>\n",
       "      <td>Completou o Ensino Médio, mas não completou a ...</td>\n",
       "    </tr>\n",
       "  </tbody>\n",
       "</table>\n",
       "</div>"
      ],
      "text/plain": [
       "  ID_QUESTIONARIO                                           PERGUNTA  \\\n",
       "0            Q001  Até que série seu pai, ou o homem responsável ...   \n",
       "1            Q001  Até que série seu pai, ou o homem responsável ...   \n",
       "2            Q001  Até que série seu pai, ou o homem responsável ...   \n",
       "3            Q001  Até que série seu pai, ou o homem responsável ...   \n",
       "4            Q001  Até que série seu pai, ou o homem responsável ...   \n",
       "\n",
       "  NR_REPOSTA                                      DESC_RESPOSTA  \n",
       "0          A                                     Nunca estudou.  \n",
       "1          B  Não completou a 4ª série/5º ano do Ensino Fund...  \n",
       "2          C  Completou a 4ª série/5º ano, mas não completou...  \n",
       "3          D  Completou a 8ª série/9º ano do Ensino Fundamen...  \n",
       "4          E  Completou o Ensino Médio, mas não completou a ...  "
      ]
     },
     "execution_count": 5,
     "metadata": {},
     "output_type": "execute_result"
    }
   ],
   "source": [
    "df.head()"
   ]
  },
  {
   "cell_type": "code",
   "execution_count": 6,
   "metadata": {},
   "outputs": [
    {
     "data": {
      "text/plain": [
       "ID_QUESTIONARIO    object\n",
       "PERGUNTA           object\n",
       "NR_REPOSTA         object\n",
       "DESC_RESPOSTA      object\n",
       "dtype: object"
      ]
     },
     "execution_count": 6,
     "metadata": {},
     "output_type": "execute_result"
    }
   ],
   "source": [
    "df.dtypes"
   ]
  },
  {
   "cell_type": "code",
   "execution_count": 7,
   "metadata": {},
   "outputs": [
    {
     "name": "stdout",
     "output_type": "stream",
     "text": [
      "CREATE TABLE QstSocEconomico (\n",
      "[ID_QUESTIONARIO] VARCHAR(4),\n",
      "[PERGUNTA] VARCHAR(277),\n",
      "[NR_REPOSTA] VARCHAR(2),\n",
      "[DESC_RESPOSTA] VARCHAR(437)\n",
      ");\n"
     ]
    }
   ],
   "source": [
    "tabela = 'QstSocEconomico'\n",
    "\n",
    "tipo_dado_map = {\n",
    "    'int64': 'BIGINT',\n",
    "    'float64': 'FLOAT',\n",
    "    'object': 'VARCHAR({})',\n",
    "    'bool': 'BIT',\n",
    "    'datetime64[ns]': 'DATETIME'\n",
    "}\n",
    "\n",
    "def calcular_max_varchar_colunas(df, coluna):\n",
    "    \n",
    "    #retornar o comprimento máximo da coluna\n",
    "    if df[coluna].dtype == 'object':\n",
    "        return df[coluna].apply(lambda x: len(str(x))).max()\n",
    "    return None\n",
    "\n",
    "\n",
    "def gerar_sql_create_table(df, tabela):\n",
    "    colunas = []\n",
    "    \n",
    "    for coluna, tipo in df.dtypes.items():\n",
    "        if str(tipo) in tipo_dado_map:\n",
    "            tipo_sql = tipo_dado_map[str(tipo)]\n",
    "            if 'VARCHAR' in tipo_sql:\n",
    "                max_length = calcular_max_varchar_colunas(df, coluna)\n",
    "                if max_length is None:\n",
    "                    max_length = 255  # Valor padrão caso não seja possível calcular\n",
    "                tipo_sql = tipo_sql.format(max_length)\n",
    "            colunas.append(f\"[{coluna}] {tipo_sql}\")\n",
    "        else:\n",
    "            colunas.append(f\"[{coluna}] VARCHAR(MAX)\")  # Tipo padrão para casos não mapeados\n",
    "    \n",
    "    sql_create = f\"CREATE TABLE {tabela} (\\n\" + \",\\n\".join(colunas) + \"\\n);\"\n",
    "    return sql_create\n",
    "\n",
    "# Gerando o script SQL\n",
    "script_sql_create = gerar_sql_create_table(df, tabela)\n",
    "\n",
    "# Exibe o script SQL, basta apenas copiar o result e colar no SSMS que será criado a tabela\n",
    "print(script_sql_create)"
   ]
  },
  {
   "cell_type": "code",
   "execution_count": 8,
   "metadata": {},
   "outputs": [
    {
     "name": "stderr",
     "output_type": "stream",
     "text": [
      "Inserindo dados no banco: 100%|██████████| 1/1 [00:00<00:00, 29.84it/s]"
     ]
    },
    {
     "name": "stdout",
     "output_type": "stream",
     "text": [
      "Dados inseridos com sucesso!\n"
     ]
    },
    {
     "name": "stderr",
     "output_type": "stream",
     "text": [
      "\n"
     ]
    }
   ],
   "source": [
    "#Etapa que insere os dados no banco de dados\n",
    "\n",
    "from tqdm import tqdm\n",
    "\n",
    "#from sqlalchemy import create_engine\n",
    "from app.db_config import database_config\n",
    "\n",
    "# Construa a string de conexão corretamente formatada\n",
    "connection_string = (\n",
    "    f\"mssql+pyodbc://{database_config['username']}:{database_config['password']}\"\n",
    "    f\"@{database_config['host']}/{database_config['database']}\"\n",
    "    \"?driver=ODBC+Driver+17+for+SQL+Server\"\n",
    ")\n",
    "\n",
    "# Crie o engine do SQLAlchemy\n",
    "engine = create_engine(connection_string)\n",
    "\n",
    "chunk_size = 1000  # Defina o tamanho do chunk conforme necessário\n",
    "total_chunks = (len(df) // chunk_size) + 1  # Calcula o número total de chunks\n",
    "\n",
    "try:\n",
    "    with tqdm(total=total_chunks, desc=\"Inserindo dados no banco\") as pbar:\n",
    "        for start in range(0, len(df), chunk_size):\n",
    "            end = min(start + chunk_size, len(df))\n",
    "            chunk = df.iloc[start:end]\n",
    "            chunk.to_sql('QstSocEconomico', con=engine, if_exists='append', index=False)\n",
    "            pbar.update(1)  # Atualiza a barra de progresso\n",
    "    print(\"Dados inseridos com sucesso!\")\n",
    "except Exception as e:\n",
    "    print(\"Erro ao inserir os dados:\", e)"
   ]
  }
 ],
 "metadata": {
  "kernelspec": {
   "display_name": "Python 3",
   "language": "python",
   "name": "python3"
  },
  "language_info": {
   "codemirror_mode": {
    "name": "ipython",
    "version": 3
   },
   "file_extension": ".py",
   "mimetype": "text/x-python",
   "name": "python",
   "nbconvert_exporter": "python",
   "pygments_lexer": "ipython3",
   "version": "3.12.5"
  }
 },
 "nbformat": 4,
 "nbformat_minor": 2
}
